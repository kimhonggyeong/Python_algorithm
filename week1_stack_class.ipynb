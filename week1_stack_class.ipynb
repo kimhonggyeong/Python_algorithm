{
 "cells": [
  {
   "cell_type": "code",
   "execution_count": null,
   "metadata": {
    "id": "kD12PM1XvynO"
   },
   "outputs": [],
   "source": [
    "#=========================================================\n",
    "# 코드 1.1a: 스택을 위한 데이터\n",
    "capacity = 10            # 스택 용량: 예) 용량을 10으로 지정\n",
    "array = [None]*capacity  # 요소 배열: [None, ..., None] (길이가 capacity)\n",
    "top = -1                 # 상단의 인덱스: 공백상태(-1)로 초기화 함\n",
    "\n",
    "# 코드 1.1b: 스택의 공백상태와 포화상태 검사\n",
    "def isEmpty( ) :\n",
    "    if top == -1 : return True\t# 공백이면 True 반환\n",
    "    else : return False\t\t\t# 아니면 False 반환\n",
    "\n",
    "def isFull( ) : return top == capacity-1\t# 비교 연산 결과를 바로 반환\n",
    "\n",
    "# 코드 1.1c: 스택의 삽입 연산\n",
    "def push( item ) :\n",
    "    global top\n",
    "    if not isFull() :\t\t    # 포화상태가 아닌 경우\n",
    "        top += 1\t\t\t    # top 증가(global top 선언 필요)\n",
    "        array[top] = item\n",
    "    else :\t\t\t            # 포화상태: overflow\n",
    "        print(\"stack overflow\")\n",
    "        exit()\n",
    "\n",
    "# 코드 1.1d: 스택의 삭제 연산\n",
    "def pop( ) :\n",
    "    global top\n",
    "    if not isEmpty():\t\t    # 공백상태가 아닌 경우\n",
    "        top -= 1\t\t\t    # top 감소(global top 선언 필요)\n",
    "        return array[top+1]\n",
    "    else:\t\t\t            # 공백상태: underflow\n",
    "        print(\"stack underflow\")\n",
    "        exit()\n",
    "\n",
    "# 코드 1.1e: 스택의 peek() 연산\n",
    "def peek( ) :\n",
    "    if not isEmpty():\t\t    # 공백상태가 아닌 경우\n",
    "        return array[top]\n",
    "    else: pass\t\t\t        # underflow 예외는 처리하지 않았음\n",
    "\n",
    "# 코드 1.1f: 스택의 size() 연산\n",
    "def size( ) : return top+1\t    # 현재 요소의 수는 top+1\n",
    "\n",
    "\n",
    "#=========================================================\n",
    "# 이 파일이 직접 실행될 때에는 다음 문장들을 실행함.\n",
    "# 다른 파일에서 모듈로 불려지는 경우는 실행되지 않음.\n",
    "#=========================================================\n",
    "\n",
    "if __name__ == \"__main__\":\n",
    "    msg = input(\"문자열 입력: \")   # 문자열을 입력받음\n",
    "    for c in msg :                # 문자열의 각 문자 c에 대해\n",
    "        push(c)                   # c를 스택에 삽입\n",
    "\n",
    "    print(\"문자열 출력: \", end='')\n",
    "    while not isEmpty():          # 스택이 공백상태가 아니라면\n",
    "        print(pop(), end='')      # 하나의 요소를 꺼내서 출력\n",
    "    print()\n",
    "\n",
    "\n"
   ]
  },
  {
   "cell_type": "markdown",
   "metadata": {},
   "source": [
    "## #.OOP 프로그래밍 방식으로 스택을 클래스로 설계"
   ]
  },
  {
   "cell_type": "code",
   "execution_count": 1,
   "metadata": {},
   "outputs": [
    {
     "name": "stdin",
     "output_type": "stream",
     "text": [
      "문자열 또는 숫자열 입력:  abcdef\n"
     ]
    },
    {
     "name": "stdout",
     "output_type": "stream",
     "text": [
      "stack overflow\n",
      "문자열 출력: edcba"
     ]
    }
   ],
   "source": [
    "#user defined AOT Stack\n",
    "class ArrayStack:\n",
    "    # 생성자 정의\n",
    "    def __init__(self,capacity=10):\n",
    "        self.capacity = capacity\n",
    "        self.array = [None]*capacity\n",
    "        self.top = -1\n",
    "        \n",
    "    # 스택의 공백 상태 확인\n",
    "    def isEmpty(self) : return self.top == -1\n",
    "\n",
    "    # 스택의 포화 상태 확인\n",
    "    def isFull(self) : return self.top == self.capacity-1\n",
    "\n",
    "    # 스택의 삽입 연산\n",
    "    def push(self,item) :\n",
    "        if not self.isFull() :\t\t    \n",
    "            self.top += 1\t\t\t    \n",
    "            self.array[self.top] = item\n",
    "        else :\t\t\t           \n",
    "            print(\"stack overflow\")\n",
    "            exit()\n",
    "    \n",
    "    # 스택의 삭제 연산\n",
    "    def pop(self) :\n",
    "        if not self.isEmpty():\t\t    \n",
    "            self.top -= 1\t\n",
    "            return self.array[self.top+1]\n",
    "        else:\n",
    "            print(\"stack underflow\")\n",
    "            exit()\n",
    "            \n",
    "    #스택의 최상단 데이터 출력\n",
    "    def peek(self) :\n",
    "        if not self.isEmpty():\t\t  \n",
    "            return self.array[self.top]\n",
    "        else:\n",
    "            print(\"stack is empty\")\n",
    "    \n",
    "    #스택의 저장된 데이터의 총 개수 확인\n",
    "    def size(self) : return self.top+1\t\n",
    "\n",
    "##문제: 주어진 입력데이터를 역순으로 출력기기\n",
    "#클래스 내부에서 다음 'main'함수 정의\n",
    "def main():\n",
    "    #1.입력 데이터 동적으로 입력받기\n",
    "    msg = input(\"문자열 또는 숫자열 입력: \") \n",
    "    #2. 사용자 정의 스택을 이용해서 스택에 저장한다.\n",
    "    stack = ArrayStack(5) #스택객체 생성\n",
    "    for c in msg :\n",
    "        stack.push(c) \n",
    "\n",
    "    print(\"문자열 출력: \", end='')\n",
    "    while not stack.isEmpty():\n",
    "        print(stack.pop(), end='')\n",
    "\n",
    "if __name__ == \"__main__\":\n",
    "    main()"
   ]
  },
  {
   "cell_type": "markdown",
   "metadata": {},
   "source": [
    "## 3.파이썬 리스트와 모듈을 이용하여 입력 데이터 역순으로 출력하기"
   ]
  },
  {
   "cell_type": "code",
   "execution_count": 2,
   "metadata": {},
   "outputs": [
    {
     "name": "stdin",
     "output_type": "stream",
     "text": [
      "문자열 또는 숫자열 입력:  안녕하세요~~\n"
     ]
    },
    {
     "name": "stdout",
     "output_type": "stream",
     "text": [
      "문자열 출력: ~~요세하녕안"
     ]
    }
   ],
   "source": [
    "# 1. 파이썬 데이터타입: list 이용\n",
    "# list는 스택으로 구현된 데이터타입\n",
    "stack = list()\n",
    "msg = input(\"문자열 또는 숫자열 입력: \") \n",
    "for c in msg :\n",
    "    stack.append(c)\n",
    "\n",
    "print(\"문자열 출력: \", end='')\n",
    "while len(stack)>0:\n",
    "    print(stack.pop(), end='')\n",
    "\n"
   ]
  },
  {
   "cell_type": "code",
   "execution_count": 6,
   "metadata": {},
   "outputs": [
    {
     "name": "stdin",
     "output_type": "stream",
     "text": [
      "문자열 또는 숫자열 입력:  sad\n"
     ]
    },
    {
     "name": "stdout",
     "output_type": "stream",
     "text": [
      "문자열 출력: das"
     ]
    }
   ],
   "source": [
    "# 2. 파이썬 라이브러리 : queue을 이용을 하여 스택 LifoQueue\n",
    "\n",
    "import queue\n",
    "\n",
    "stack = queue.LifoQueue(maxsize = 100)\n",
    "\n",
    "msg = input(\"문자열 또는 숫자열 입력: \") \n",
    "for c in msg :\n",
    "    stack.put(c)\n",
    "print(\"문자열 출력: \", end='')\n",
    "while not stack.empty():\n",
    "    print(stack.get(), end='')"
   ]
  },
  {
   "cell_type": "code",
   "execution_count": null,
   "metadata": {
    "id": "PJqzPvjyOp-1"
   },
   "outputs": [],
   "source": [
    "#=========================================================\n",
    "# 코드 1.7: 반복 구조의 팩토리얼 함수\n",
    "\n",
    "def factorial_iter(n) :\n",
    "    result = 1\n",
    "    for k in range(2, n+1) :\t# k: 2, ..., n\n",
    "        result = result * k\t# result에 반복적으로 곱함\n",
    "    return result\n",
    "\n",
    "\n",
    "#=========================================================\n",
    "# 코드 1.8: 순환 구조의 팩토리얼 함수\n",
    "\n",
    "def factorial(n) :\t\t# 순환적으로 구현한 factorial 함수\n",
    "    if n == 1 : return 1\t\t# 종료 조건: 순환을 멈추는 부분\n",
    "    else :\n",
    "        return n * factorial(n - 1)\t# 자신을 순환적으로 호출\n",
    "\n"
   ]
  }
 ],
 "metadata": {
  "colab": {
   "provenance": []
  },
  "kernelspec": {
   "display_name": "Python 3 (ipykernel)",
   "language": "python",
   "name": "python3"
  },
  "language_info": {
   "codemirror_mode": {
    "name": "ipython",
    "version": 3
   },
   "file_extension": ".py",
   "mimetype": "text/x-python",
   "name": "python",
   "nbconvert_exporter": "python",
   "pygments_lexer": "ipython3",
   "version": "3.12.3"
  }
 },
 "nbformat": 4,
 "nbformat_minor": 4
}
